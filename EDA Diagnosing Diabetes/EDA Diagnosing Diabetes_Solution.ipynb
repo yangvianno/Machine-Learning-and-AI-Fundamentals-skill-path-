{
 "cells": [
  {
   "cell_type": "markdown",
   "id": "b69abefe",
   "metadata": {},
   "source": [
    "# EDA: Diagnosing Diabetes"
   ]
  },
  {
   "cell_type": "markdown",
   "id": "8cc3f791",
   "metadata": {},
   "source": [
    "In this project, you'll imagine you are a data scientist interested in exploring data that looks at how certain diagnostic factors affect the diabetes outcome of women patients.\n",
    "\n",
    "You will use your EDA skills to help inspect, clean, and validate the data.\n",
    "\n",
    "**Note**: This [dataset](https://www.kaggle.com/uciml/pima-indians-diabetes-database) is from the National Institute of Diabetes and Digestive and Kidney Diseases. It contains the following columns:\n",
    "\n",
    "- `Pregnancies`: Number of times pregnant\n",
    "- `Glucose`: Plasma glucose concentration per 2 hours in an oral glucose tolerance test\n",
    "- `BloodPressure`: Diastolic blood pressure\n",
    "- `SkinThickness`: Triceps skinfold thickness\n",
    "- `Insulin`: 2-Hour serum insulin\n",
    "- `BMI`: Body mass index\n",
    "- `DiabetesPedigreeFunction`: Diabetes pedigree function\n",
    "- `Age`: Age (years)\n",
    "- `Outcome`: Class variable (0 or 1)\n",
    "\n",
    "Let's get started!"
   ]
  },
  {
   "cell_type": "markdown",
   "id": "8fef3a11",
   "metadata": {},
   "source": [
    "## Initial Inspection"
   ]
  },
  {
   "cell_type": "markdown",
   "id": "6abf892b",
   "metadata": {},
   "source": [
    "1. First, familiarize yourself with the dataset [here](https://www.kaggle.com/uciml/pima-indians-diabetes-database).\n",
    "\n",
    "   Look at each of the nine columns in the documentation.\n",
    "   \n",
    "   What do you expect each data type to be?"
   ]
  },
  {
   "cell_type": "markdown",
   "id": "818b9fcf",
   "metadata": {},
   "source": [
    "Expected data type for each column:\n",
    "\n",
    "- `Pregnancies`: `int64`\n",
    "- `Glucose`: `int64`\n",
    "- `BloodPressure`: `int64`\n",
    "- `SkinThickness`: `int64`\n",
    "- `Insulin`: `int64`\n",
    "- `BMI`: `float64`\n",
    "- `DiabetesPedigreeFunction`: `float64`\n",
    "- `Age`: `int64`\n",
    "- `Outcome`: `int64`"
   ]
  },
  {
   "cell_type": "markdown",
   "id": "4247138f",
   "metadata": {},
   "source": [
    "2. Next, let's load in the diabetes data to start exploring.\n",
    "\n",
    "   Load the data in a variable called `diabetes_data` and print the first few rows.\n",
    "   \n",
    "   **Note**: The data is stored in a file called `diabetes.csv`."
   ]
  },
  {
   "cell_type": "code",
   "execution_count": null,
   "id": "6c3626fe",
   "metadata": {},
   "outputs": [],
   "source": [
    "import pandas as pd\n",
    "import numpy as np\n",
    "\n",
    "# load in data\n",
    "diabetes_data = pd.read_csv('diabetes.csv')\n",
    "print(diabetes_data.head())"
   ]
  },
  {
   "cell_type": "markdown",
   "id": "71286705",
   "metadata": {},
   "source": [
    "3. How many columns (features) does the data contain?"
   ]
  },
  {
   "cell_type": "code",
   "execution_count": null,
   "id": "f1601c65",
   "metadata": {},
   "outputs": [],
   "source": [
    "# print number of columns\n",
    "print(len(diabetes_data.columns))"
   ]
  },
  {
   "cell_type": "markdown",
   "id": "00d6357a",
   "metadata": {},
   "source": [
    "4. How many rows (observations) does the data contain?"
   ]
  },
  {
   "cell_type": "code",
   "execution_count": null,
   "id": "340fffc1",
   "metadata": {},
   "outputs": [],
   "source": [
    "# print number of rows\n",
    "print(len(diabetes_data))"
   ]
  },
  {
   "cell_type": "markdown",
   "id": "a72a10c3",
   "metadata": {},
   "source": [
    "## Further Inspection"
   ]
  },
  {
   "cell_type": "markdown",
   "id": "44fc5b9f",
   "metadata": {},
   "source": [
    "5. Let's inspect `diabetes_data` further.\n",
    "\n",
    "   Do any of the columns in the data contain null (missing) values?"
   ]
  },
  {
   "cell_type": "code",
   "execution_count": null,
   "id": "aaccf753",
   "metadata": {},
   "outputs": [],
   "source": [
    "# find whether columns contain null values\n",
    "print(diabetes_data.isnull().sum())"
   ]
  },
  {
   "cell_type": "markdown",
   "id": "fec42b71",
   "metadata": {},
   "source": [
    "6. If you answered no to the question above, not so fast!\n",
    "\n",
    "   While it's technically true that none of the columns contain null values, that doesn't necessarily mean that the data isn't missing any values.\n",
    "   \n",
    "   When exploring data, you should always question your assumptions and try to dig deeper.\n",
    "   \n",
    "   To investigate further, calculate summary statistics on `diabetes_data` using the `.describe()` method."
   ]
  },
  {
   "cell_type": "code",
   "execution_count": null,
   "id": "97cdcbd5",
   "metadata": {},
   "outputs": [],
   "source": [
    "# perform summary statistics\n",
    "print(diabetes_data.describe())"
   ]
  },
  {
   "cell_type": "markdown",
   "id": "4bfebc43",
   "metadata": {},
   "source": [
    "7. Looking at the summary statistics, do you notice anything odd about the following columns?\n",
    "\n",
    "   - `Glucose`\n",
    "   - `BloodPressure`\n",
    "   - `SkinThickness`\n",
    "   - `Insulin`\n",
    "   - `BMI`"
   ]
  },
  {
   "cell_type": "markdown",
   "id": "96ad3a84",
   "metadata": {},
   "source": [
    "**Our response to question 7**: If you take a look at the minimum values for these five columns, you'll notice that they are all `0`. \n",
    "\n",
    "How can Blood Pressure or BMI be `0`? That makes no sense! These values also seem to be way off from their respective medians and means, another indicator that something is off.\n",
    "\n",
    "One way to interpret this is that there are missing values in the data."
   ]
  },
  {
   "cell_type": "markdown",
   "id": "34fa4277",
   "metadata": {},
   "source": [
    "8. Do you spot any other outliers in the data?"
   ]
  },
  {
   "cell_type": "markdown",
   "id": "eba05a21",
   "metadata": {},
   "source": [
    "**Our response to question 8**: In addition to the `0` values that show up for the columns above, there appear to be additional outliers, such as:\n",
    "\n",
    "- The maximum value of the `Insulin` column is `846`, which is abnormally high.\n",
    "- The maximum value of the `Pregnancies` column is `17`. While having 17 pregnancies is not impossible, this case might be something to look further into to determine its accuracy.\n",
    "\n",
    "As you can see, EDA helps inform the data cleaning process by helping catch things that aren't immediately obvious."
   ]
  },
  {
   "cell_type": "markdown",
   "id": "6463264b",
   "metadata": {},
   "source": [
    "9. Let's see if we can get a more accurate view of the missing values in the data.\n",
    "\n",
    "   Use the following code to replace the instances of `0` with `NaN` in the five columns mentioned:\n",
    "   \n",
    "   ```py\n",
    "   diabetes_data[['Glucose', 'BloodPressure', 'SkinThickness', 'Insulin', 'BMI']] = diabetes_data[['Glucose', 'BloodPressure', 'SkinThickness', 'Insulin', 'BMI']].replace(0, np.NaN)\n",
    "   ```"
   ]
  },
  {
   "cell_type": "code",
   "execution_count": null,
   "id": "ec588b46",
   "metadata": {},
   "outputs": [],
   "source": [
    "# replace instances of 0 with NaN\n",
    "diabetes_data[['Glucose', 'BloodPressure', 'SkinThickness', 'Insulin', 'BMI']] = diabetes_data[['Glucose', 'BloodPressure', 'SkinThickness', 'Insulin', 'BMI']].replace(0, np.NaN)"
   ]
  },
  {
   "cell_type": "markdown",
   "id": "e426b00e",
   "metadata": {},
   "source": [
    "10. Next, check for missing (null) values in all of the columns just like you did in Step 5.\n",
    "\n",
    "    Now how many missing values are there?"
   ]
  },
  {
   "cell_type": "code",
   "execution_count": null,
   "id": "fc6ee5cb",
   "metadata": {},
   "outputs": [],
   "source": [
    "# find whether columns contain null values after replacements are made\n",
    "print(diabetes_data.isnull().sum())"
   ]
  },
  {
   "cell_type": "markdown",
   "id": "b99f4d98",
   "metadata": {},
   "source": [
    "11. Let's take a closer look at these rows to get a better idea of _why_ some data might be missing.\n",
    "\n",
    "    Print out all the rows that contain missing (null) values."
   ]
  },
  {
   "cell_type": "code",
   "execution_count": null,
   "id": "6ea89f27",
   "metadata": {},
   "outputs": [],
   "source": [
    "# print rows with missing values\n",
    "print(diabetes_data[diabetes_data.isnull().any(axis=1)])"
   ]
  },
  {
   "cell_type": "markdown",
   "id": "d402b91c",
   "metadata": {},
   "source": [
    "12. Go through the rows with missing data. Do you notice any patterns or overlaps between the missing data?"
   ]
  },
  {
   "cell_type": "markdown",
   "id": "650b7d36",
   "metadata": {},
   "source": [
    "**Our response to question 12**: One thing you might notice is that most rows with missing data have missing values in more than one column. In fact, every single row with at least one missing value also has a missing value in the `Insulin` column. This is a clue as to why the data is missing! If patients did not have their insulin measured, why might they also not have had these other measurements taken?\n",
    "\n",
    "Depending on how much data is missing, you might choose to remove specific rows or impute the missing values somehow."
   ]
  },
  {
   "cell_type": "markdown",
   "id": "d2f24ca4",
   "metadata": {},
   "source": [
    "13. Next, take a closer look at the data types of each column in `diabetes_data`.\n",
    "\n",
    "    Does the result match what you would expect?"
   ]
  },
  {
   "cell_type": "code",
   "execution_count": null,
   "id": "5f3c7eaf",
   "metadata": {},
   "outputs": [],
   "source": [
    "# print data types using .info() method\n",
    "print(diabetes_data.info())"
   ]
  },
  {
   "cell_type": "markdown",
   "id": "2f977f06",
   "metadata": {},
   "source": [
    "14. To figure out why the `Outcome` column is of type `object` (string) instead of type `int64`, print out the unique values in the `Outcome` column."
   ]
  },
  {
   "cell_type": "code",
   "execution_count": null,
   "id": "d655ddce",
   "metadata": {},
   "outputs": [],
   "source": [
    "# print unique values of Outcome column\n",
    "print(diabetes_data.Outcome.unique())"
   ]
  },
  {
   "cell_type": "markdown",
   "id": "9131b29d",
   "metadata": {},
   "source": [
    "15. How might you resolve this issue?"
   ]
  },
  {
   "cell_type": "markdown",
   "id": "5ecc3575",
   "metadata": {},
   "source": [
    "**Our response to question 15**: A possible next step would be to replace instances of `'O'` with `0` and convert the `Outcome` column to type `int64`."
   ]
  },
  {
   "cell_type": "markdown",
   "id": "e26dec30",
   "metadata": {},
   "source": [
    "## Next Steps:"
   ]
  },
  {
   "cell_type": "markdown",
   "id": "95d5deb6",
   "metadata": {},
   "source": [
    "16. Congratulations! In this project, you saw how EDA can help with the initial data inspection and cleaning process. This is an important step as it helps to keep your datasets clean and reliable.\n",
    "\n",
    "    Here are some ways you might extend this project if you'd like:\n",
    "    - Use `.value_counts()` to more fully explore the values in each column.\n",
    "    - Investigate other outliers in the data that may be easily overlooked.\n",
    "    - Instead of changing the `0` values in the five columns to `NaN`, try replacing the values with the median or mean of each column."
   ]
  },
  {
   "cell_type": "code",
   "execution_count": null,
   "id": "b0b81d1c",
   "metadata": {},
   "outputs": [],
   "source": []
  }
 ],
 "metadata": {
  "kernelspec": {
   "display_name": "Python 3 (ipykernel)",
   "language": "python",
   "name": "python3"
  },
  "language_info": {
   "codemirror_mode": {
    "name": "ipython",
    "version": 3
   },
   "file_extension": ".py",
   "mimetype": "text/x-python",
   "name": "python",
   "nbconvert_exporter": "python",
   "pygments_lexer": "ipython3",
   "version": "3.7.11"
  }
 },
 "nbformat": 4,
 "nbformat_minor": 5
}
